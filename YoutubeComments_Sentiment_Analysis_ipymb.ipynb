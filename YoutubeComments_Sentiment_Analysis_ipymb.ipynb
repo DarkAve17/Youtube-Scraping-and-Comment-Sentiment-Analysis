{
  "nbformat": 4,
  "nbformat_minor": 0,
  "metadata": {
    "colab": {
      "provenance": []
    },
    "kernelspec": {
      "name": "python3",
      "display_name": "Python 3"
    },
    "language_info": {
      "name": "python"
    }
  },
  "cells": [
    {
      "cell_type": "code",
      "execution_count": null,
      "metadata": {
        "id": "jTDtb57d-h0O"
      },
      "outputs": [],
      "source": [
        "!pip install transformers datasets"
      ]
    },
    {
      "cell_type": "code",
      "source": [
        "from transformers import pipeline\n",
        "classifier = pipeline(\"sentiment-analysis\")"
      ],
      "metadata": {
        "colab": {
          "base_uri": "https://localhost:8080/"
        },
        "id": "rOWgT8H-B6u1",
        "outputId": "00b6cfa8-9f5f-4fb4-ef5e-946d2b26948c"
      },
      "execution_count": 1,
      "outputs": [
        {
          "output_type": "stream",
          "name": "stderr",
          "text": [
            "No model was supplied, defaulted to distilbert-base-uncased-finetuned-sst-2-english and revision af0f99b (https://huggingface.co/distilbert-base-uncased-finetuned-sst-2-english).\n",
            "Using a pipeline without specifying a model name and revision in production is not recommended.\n",
            "/usr/local/lib/python3.10/dist-packages/huggingface_hub/utils/_token.py:88: UserWarning: \n",
            "The secret `HF_TOKEN` does not exist in your Colab secrets.\n",
            "To authenticate with the Hugging Face Hub, create a token in your settings tab (https://huggingface.co/settings/tokens), set it as secret in your Google Colab and restart your session.\n",
            "You will be able to reuse this secret in all of your notebooks.\n",
            "Please note that authentication is recommended but still optional to access public models or datasets.\n",
            "  warnings.warn(\n"
          ]
        }
      ]
    },
    {
      "cell_type": "code",
      "source": [
        "import psycopg2"
      ],
      "metadata": {
        "id": "eaXarc2pdpyF"
      },
      "execution_count": 2,
      "outputs": []
    },
    {
      "cell_type": "code",
      "source": [
        "#google colab doesnt allow us to connect to local runtimes hence i suggest uploading the .csv file here and using the analysis on it\n",
        "\n",
        "import csv\n",
        "\n",
        "def extract_row_by_id(csv_file, id_to_extract):\n",
        "  with open(csv_file, 'r') as file:\n",
        "    reader = csv.reader(file)\n",
        "    for row in reader:\n",
        "      if row[0] == id_to_extract:\n",
        "        return row\n",
        "  return None\n",
        "\n",
        "# Prompt the user for the ID to extract\n",
        "id_to_extract = input(\"Enter the value of the comment to be pulled: \")\n",
        "\n",
        "# Extract the row with the specified ID\n",
        "extracted_row = extract_row_by_id('Youtube_comments.csv', id_to_extract)\n",
        "\n",
        "# Save the entire row to a variable\n",
        "entire_row = extracted_row\n",
        "#0 -ID\n",
        "#1- Author\n",
        "#2 - Comment\n",
        "# Print the extracted row\n",
        "print(f\"Extracted row: {entire_row[2]}\")\n"
      ],
      "metadata": {
        "colab": {
          "base_uri": "https://localhost:8080/"
        },
        "id": "aSJpb5tXiw_b",
        "outputId": "06f834b1-d7f8-4ebd-dcc6-c5ae91b93886"
      },
      "execution_count": 14,
      "outputs": [
        {
          "output_type": "stream",
          "name": "stdout",
          "text": [
            "Enter the value of the comment to be pulled: 5\n",
            "Extracted row: I don’t think you realize that you just gave people a blueprint to improve their life. Take these concepts and apply it to anything else and it will work. I love how open ended/general you left these topics in general and not just programming.\n"
          ]
        }
      ]
    },
    {
      "cell_type": "code",
      "source": [
        "\n",
        "#to run sentiment analysis on any comment extracted from the youtube video\n",
        "classifier(f\"{entire_row[2]}\")"
      ],
      "metadata": {
        "colab": {
          "base_uri": "https://localhost:8080/"
        },
        "id": "EsnV81QDq1gj",
        "outputId": "c2b1af6b-d79c-44fb-d5ce-58d2a12c2df2"
      },
      "execution_count": 15,
      "outputs": [
        {
          "output_type": "execute_result",
          "data": {
            "text/plain": [
              "[{'label': 'POSITIVE', 'score': 0.9992294311523438}]"
            ]
          },
          "metadata": {},
          "execution_count": 15
        }
      ]
    },
    {
      "cell_type": "code",
      "source": [],
      "metadata": {
        "id": "G3olmHWbsFnA"
      },
      "execution_count": null,
      "outputs": []
    }
  ]
}